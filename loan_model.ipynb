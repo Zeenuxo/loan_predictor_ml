{
 "cells": [
  {
   "cell_type": "markdown",
   "metadata": {},
   "source": [
    "<!-- \n",
    "1. We need two datasets. (The ML model will learn from these datasets)\n",
    "\n",
    "2. We will append or attach the datasets.\n",
    "\n",
    "3. Pre-process the raw data. (Label Encoding, Missing values, Drop features)\n",
    "\n",
    "4. Split the data into Training & Testing data.\n",
    "   -  ML model will be trained on Training data.\n",
    "   -  ML model will be evaluated on Test data. (To check how well model is performing on a given dataset)\n",
    "\n",
    "5. Feed training data to ML model (Support Vector Machine Learning Model - Supervised Model)\n",
    "   - In supervised model there are two labels:\n",
    "        - Loan Approved \n",
    "        - Loan Disapproved\n",
    "\n",
    "6. Once SVML is 'Trained' we will evaluate it against our Test data.\n",
    "    It will tell us accuracy score of our model (How well our model performs)\n",
    "\n",
    "7. When new data is fed to our 'Trained SVML' model it will predict an outcome/label. -->\n"
   ]
  },
  {
   "cell_type": "markdown",
   "metadata": {},
   "source": [
    "### Importing Dependencies"
   ]
  },
  {
   "cell_type": "code",
   "execution_count": null,
   "metadata": {},
   "outputs": [],
   "source": [
    "\n",
    "#Data Cleaning, Processing, & Visualization:\n",
    "import numpy as np      #For Linear Algebra & Array Handling \n",
    "import pandas as pd     #For Data Processing  (Data Frames - Structured Tables)\n",
    "import matplotlib.pyplot as plt #For Graphical visualization\n",
    "import seaborn as sns   #For statistical data visualization\n",
    "\n",
    "#Train & Test:\n",
    "from sklearn.metrics import accuracy_score\n",
    "from sklearn.model_selection import train_test_split #Split Train& Test Data\n",
    "\n",
    "#ML Model:\n",
    "from sklearn import svm #Support Vector Machine \n",
    "from sklearn.linear_model import LogisticRegression"
   ]
  },
  {
   "cell_type": "markdown",
   "metadata": {},
   "source": [
    "### Data Collection"
   ]
  },
  {
   "cell_type": "code",
   "execution_count": null,
   "metadata": {},
   "outputs": [],
   "source": [
    "#Loading dataset for Training purpose\n",
    "dataset=pd.read_csv('dataset/dataset.csv')"
   ]
  },
  {
   "cell_type": "code",
   "execution_count": null,
   "metadata": {},
   "outputs": [],
   "source": [
    "#Check dataset type (It shows it is a dataframe object)\n",
    "type(dataset)"
   ]
  },
  {
   "cell_type": "code",
   "execution_count": null,
   "metadata": {},
   "outputs": [],
   "source": [
    "#Check Total number of rows & columns in our dataset\n",
    "dataset.shape"
   ]
  },
  {
   "cell_type": "code",
   "execution_count": null,
   "metadata": {},
   "outputs": [],
   "source": [
    "#Checking first 5 rows of our dataset\n",
    "dataset.head()"
   ]
  },
  {
   "cell_type": "code",
   "execution_count": null,
   "metadata": {},
   "outputs": [],
   "source": [
    "#Checking dataset for Statistical Measures for Numerical Columns Only, and not Categorical columns\n",
    "dataset.describe()"
   ]
  },
  {
   "cell_type": "markdown",
   "metadata": {},
   "source": [
    "### Pre-processing & Cleaning"
   ]
  },
  {
   "cell_type": "code",
   "execution_count": null,
   "metadata": {},
   "outputs": [],
   "source": [
    "#Checking missing values in our dataset\n",
    "missing_data = dataset.isnull().sum().to_frame()\n",
    "\n",
    "#Rename column holding the sums\n",
    "missing_data = missing_data.rename(columns={0:'Missing Values in columns'})\n",
    "\n",
    "#Print the results\n",
    "print(missing_data)"
   ]
  },
  {
   "cell_type": "code",
   "execution_count": null,
   "metadata": {},
   "outputs": [],
   "source": [
    "#Dropping Columns (Features) not required \n",
    "dataset.drop('Loan_ID',inplace=True,axis=1)\n",
    "\n",
    "#Checking column again\n",
    "dataset.head()"
   ]
  },
  {
   "cell_type": "markdown",
   "metadata": {},
   "source": [
    "### Visualization"
   ]
  },
  {
   "cell_type": "code",
   "execution_count": null,
   "metadata": {},
   "outputs": [],
   "source": [
    "#Education vs Loan Status\n",
    "#If you are a Graduate how likely are you to get a loan?\n",
    "sns.countplot(x='Education',hue='Loan_Status',data=dataset)"
   ]
  },
  {
   "cell_type": "code",
   "execution_count": null,
   "metadata": {},
   "outputs": [],
   "source": [
    "#Married vs Loan Status\n",
    "#If you are married how likely are you to get a loan?\n",
    "sns.countplot(x='Married',hue='Loan_Status',data=dataset)"
   ]
  },
  {
   "cell_type": "code",
   "execution_count": null,
   "metadata": {},
   "outputs": [],
   "source": [
    "# plt.figure(figsize=(18, 6))\n",
    "# plt.title(\"Relation Between Application Income vs Loan Amount \")\n",
    "\n",
    "# plt.grid()\n",
    "# plt.scatter(data['ApplicantIncome'] , data['LoanAmount'], c='k', marker='x')\n",
    "# plt.xlabel(\"Applicant Income\")\n",
    "# plt.ylabel(\"Loan Amount\")\n",
    "# plt.show()"
   ]
  },
  {
   "cell_type": "code",
   "execution_count": null,
   "metadata": {},
   "outputs": [],
   "source": [
    "# Label Encoding refers to converting the labels into a numeric form so as to convert them into the machine-readable form.  \n",
    "# Machine learning algorithms can then decide in a better way how those labels must be operated.\n",
    "\n",
    "# Label encoding for gender\n",
    "dataset.Gender=dataset.Gender.map({'Male':1,'Female':0})\n",
    "\n",
    "# Labelling encoding for Marrital status\n",
    "dataset.Married=dataset.Married.map({'Yes':1,'No':0})\n",
    "\n",
    "# Labelling 0 & 1 for Dependents\n",
    "dataset.Dependents=dataset.Dependents.map({'0':0,'1':1,'2':2,'3+':3})\n",
    "\n",
    "# Labelling 0 & 1 for Education Status\n",
    "dataset.Education=dataset.Education.map({'Graduate':1,'Not Graduate':0})\n",
    "\n",
    "# Labelling 0 & 1 for Employment status\n",
    "dataset.Self_Employed=dataset.Self_Employed.map({'Yes':1,'No':0})\n",
    "\n",
    "# Labelling 0 & 1 for Property area\n",
    "dataset.Property_Area=dataset.Property_Area.map({'Rural':0,'Semiurban':1, 'Urban':2})\n",
    "\n",
    "# Labelling 0 & 1 for Loan Status\n",
    "dataset.Loan_Status=dataset.Loan_Status.map({'Y':1,'N':0})\n"
   ]
  },
  {
   "cell_type": "code",
   "execution_count": null,
   "metadata": {},
   "outputs": [],
   "source": [
    "#Checking first 5 rows of our dataset\n",
    "dataset.head()"
   ]
  },
  {
   "cell_type": "markdown",
   "metadata": {},
   "source": [
    "### Filling Missing Data\n",
    "Missing value can bias the results of the machine learning models and/or reduce the accuracy of the model. <br>\n",
    "If values are missing completely at random, the data sample is likely still representative of the population. <br> \n",
    "But if the values are missing systematically, analysis may be biased.\n"
   ]
  },
  {
   "cell_type": "code",
   "execution_count": null,
   "metadata": {},
   "outputs": [],
   "source": [
    "#See which features are missing values:\n",
    "dataset.isnull().sum()"
   ]
  },
  {
   "cell_type": "code",
   "execution_count": null,
   "metadata": {},
   "outputs": [],
   "source": [
    "from random import randint \n",
    "\n",
    "## Filling Gender with random number between 0-2\n",
    "dataset.Gender.fillna(np.random.randint(0,2),inplace=True)\n",
    "\n",
    "## Filling Married with random number between 0-2\n",
    "dataset.Married.fillna(np.random.randint(0,2),inplace=True)\n",
    "\n",
    "## Filling Dependents with median\n",
    "dataset.Dependents.fillna(dataset.Dependents.median(),inplace=True)\n",
    "\n",
    "## Filling Gender with random number between 0-2\n",
    "dataset.Self_Employed.fillna(np.random.randint(0,2),inplace=True)\n",
    "\n",
    "## Filling Loan Amount with median\n",
    "dataset.LoanAmount.fillna(dataset.LoanAmount.median(),inplace=True)\n",
    "\n",
    "## Filling Loan Amount Term with mean\n",
    "dataset.Loan_Amount_Term.fillna(dataset.Loan_Amount_Term.mean(),inplace=True)\n",
    "\n",
    "## Filling Credit History with random number between 0-2\n",
    "dataset.Credit_History.fillna(np.random.randint(0,2),inplace=True)\n",
    "\n",
    "\n",
    "#Recheck if all missing values have been filled.\n",
    "dataset.isnull().sum()"
   ]
  },
  {
   "attachments": {},
   "cell_type": "markdown",
   "metadata": {},
   "source": [
    "### Separate Data & Label "
   ]
  },
  {
   "cell_type": "code",
   "execution_count": null,
   "metadata": {},
   "outputs": [],
   "source": [
    "# This is un-split data\n",
    "# X (All Features) vs Y (Loan_Status)\n",
    "\n",
    "#Independent Variable \n",
    "#Storing All features except Loan_Status\n",
    "X=dataset.drop(columns=['Loan_Status'],axis=1) #1 - Columns / 0 - Rows\n",
    "\n",
    "#Dependent Variable \n",
    "Y=dataset['Loan_Status']"
   ]
  },
  {
   "cell_type": "code",
   "execution_count": null,
   "metadata": {},
   "outputs": [],
   "source": [
    "print(X)\n",
    "print(Y)"
   ]
  },
  {
   "attachments": {},
   "cell_type": "markdown",
   "metadata": {},
   "source": [
    "### Splitting Train & Test Data"
   ]
  },
  {
   "cell_type": "code",
   "execution_count": null,
   "metadata": {},
   "outputs": [],
   "source": [
    "#X_train will store all Data (Married) - Except Loan_Status\n",
    "#Y_train will store all Labels (values, i.e. Yes-1, No-0)\n",
    "\n",
    "#X_test will store certain Data for evaluation\n",
    "#Y_test will store corresponding Labels (values) for evaluation\n",
    "\n",
    "#test_size= 0.1 means use 10% of original data for Test Purposes\n",
    "#90% of data will be stored in X_train & 10% in X_test\n",
    "#Stratify Parameter means give me equal proportions of 0, 1 label values in Y_train & Y_test\n",
    "#random_state can have any value \n",
    "X_train, X_test, Y_train, Y_test = train_test_split(X,Y,test_size=0.1, stratify=Y, random_state=2)"
   ]
  },
  {
   "cell_type": "code",
   "execution_count": null,
   "metadata": {},
   "outputs": [],
   "source": [
    "# View Total data size (100%) = train data size (90%) & test data size (10%)\n",
    "print(X.shape, X_train.shape, X_test.shape)"
   ]
  },
  {
   "attachments": {},
   "cell_type": "markdown",
   "metadata": {},
   "source": [
    "### Model Training"
   ]
  },
  {
   "cell_type": "code",
   "execution_count": null,
   "metadata": {},
   "outputs": [],
   "source": [
    "#Using SVM - Support Vector Machine Model (Loan Approved vs Not Approved)\n",
    "model_1 = svm.SVC(kernel='linear')\n",
    "\n",
    "#Fit the Data & Label\n",
    "model_1.fit(X_train,Y_train)"
   ]
  },
  {
   "attachments": {},
   "cell_type": "markdown",
   "metadata": {},
   "source": [
    "### Model Evaluation"
   ]
  },
  {
   "cell_type": "code",
   "execution_count": null,
   "metadata": {},
   "outputs": [],
   "source": [
    "#Prediction using Training data\n",
    "X_train_prediction = model_1.predict(X_train)\n",
    "\n",
    "#Accuracy of our prediction\n",
    "X_train_accuracy = accuracy_score(X_train_prediction, Y_train)\n",
    "\n",
    "#View Score\n",
    "print('Accuracy of Training Data is: ', X_train_accuracy)"
   ]
  },
  {
   "cell_type": "code",
   "execution_count": null,
   "metadata": {},
   "outputs": [],
   "source": [
    "#Prediction using Test data\n",
    "X_test_prediction = model_1.predict(X_test)\n",
    "\n",
    "#Accuracy of our prediction\n",
    "X_test_accuracy = accuracy_score(X_test_prediction, Y_test)\n",
    "\n",
    "#View Score\n",
    "print('Accuracy of Test Data is: ', X_test_accuracy)"
   ]
  },
  {
   "attachments": {},
   "cell_type": "markdown",
   "metadata": {},
   "source": [
    "### Model Prediction"
   ]
  },
  {
   "cell_type": "code",
   "execution_count": null,
   "metadata": {},
   "outputs": [],
   "source": [
    "input_data = (0.0,\t0.0,\t0.0,\t1,\t0.0,\t4230,\t0.0,\t112.0,\t360.0,\t1.0,\t1)\n",
    "\n",
    "#Converting input data to numpy array\n",
    "input_data_to_array = np.asarray(input_data)\n",
    "\n",
    "#Reshaping array to predict for a Single Instance\n",
    "input_data_reshape = input_data_to_array.reshape(1,-1)\n",
    "\n",
    "prediction = model_1.predict(input_data_reshape)\n",
    "print(prediction)\n",
    "\n",
    "\n",
    "if(prediction[0]==0):\n",
    "    print('Loan is not Approved')\n",
    "else:\n",
    "    print('Loan is Approved')"
   ]
  },
  {
   "attachments": {},
   "cell_type": "markdown",
   "metadata": {},
   "source": [
    "### Saving Model "
   ]
  },
  {
   "cell_type": "code",
   "execution_count": null,
   "metadata": {},
   "outputs": [],
   "source": [
    "import pickle\n",
    "\n",
    "pickle_out = open('./Model/model.pkl', mode = \"wb\")\n",
    "pickle.dump(model_1, pickle_out)\n",
    "pickle_out.close()"
   ]
  },
  {
   "attachments": {},
   "cell_type": "markdown",
   "metadata": {},
   "source": [
    "### Loading Model"
   ]
  },
  {
   "cell_type": "code",
   "execution_count": null,
   "metadata": {},
   "outputs": [],
   "source": [
    "pickle_in = open('./model/model.pkl', mode = \"rb\")\n",
    "load_model = pickle.load(pickle_in)"
   ]
  },
  {
   "attachments": {},
   "cell_type": "markdown",
   "metadata": {},
   "source": [
    "### Quick Test Model"
   ]
  },
  {
   "cell_type": "code",
   "execution_count": null,
   "metadata": {},
   "outputs": [],
   "source": [
    "prediction = load_model.predict([[0, 0, 3, 0, 1, 10000, 0, 500000.0, 180, 0, 0]])\n",
    "print(prediction)"
   ]
  }
 ],
 "metadata": {
  "kernelspec": {
   "display_name": "Python 3.10.8 64-bit (microsoft store)",
   "language": "python",
   "name": "python3"
  },
  "language_info": {
   "codemirror_mode": {
    "name": "ipython",
    "version": 3
   },
   "file_extension": ".py",
   "mimetype": "text/x-python",
   "name": "python",
   "nbconvert_exporter": "python",
   "pygments_lexer": "ipython3",
   "version": "3.10.9 (tags/v3.10.9:1dd9be6, Dec  6 2022, 20:01:21) [MSC v.1934 64 bit (AMD64)]"
  },
  "orig_nbformat": 4,
  "vscode": {
   "interpreter": {
    "hash": "810163f6fcf6b30514dfc25f627a7423861b3054acf5d5e481751baf3a9998d7"
   }
  }
 },
 "nbformat": 4,
 "nbformat_minor": 2
}
